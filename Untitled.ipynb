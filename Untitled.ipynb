{
 "cells": [
  {
   "cell_type": "markdown",
   "id": "3feba2bb",
   "metadata": {},
   "source": [
    "# Convert paragraph to sentences in NLP"
   ]
  },
  {
   "cell_type": "code",
   "execution_count": 3,
   "id": "c4a39daf",
   "metadata": {},
   "outputs": [],
   "source": [
    "import nltk"
   ]
  },
  {
   "cell_type": "code",
   "execution_count": 17,
   "id": "101a3c0b",
   "metadata": {},
   "outputs": [],
   "source": [
    "paragraph = \"\"\"Shri Narendra Modi was sworn-in as India’s Prime Minister on 30th May 2019, marking the start of his second term in office. The first ever Prime Minister to be born after Independence, Shri Modi has previously served as the Prime Minister of India from 2014 to 2019. He also has the distinction of being the longest serving Chief Minister of Gujarat with his term spanning from October 2001 to May 2014.\n",
    "\n",
    "In the 2014 and 2019 Parliamentary elections, Shri Modi led the Bharatiya Janata Party to record wins, securing absolute majority on both occasions. The last time that a political party secured such an absolute majority was in the elections of 1984.\n",
    "\n",
    "Inspired by the motto of ‘Sabka Saath, Sabka Vikas, Sabka Vishwas’, Shri Modi has ushered in a paradigm shift in governance that has led to inclusive, development-oriented and corruption-free governance. The Prime Minister has worked with speed and scale to realise the aim of Antyodaya, or ensuring last-mile delivery of schemes and services.\n",
    "\n",
    "Leading international agencies have noted that under the leadership of PM Narendra Modi, India has been eliminating poverty at record pace. This is attributed to a series of pro-poor decisions taken by the Central Government.\n",
    "\n",
    "Today, India is home to the world’s largest healthcare programme, Ayushman Bharat. Covering over 50 crore Indians, Ayushman Bharat provides top quality and affordable healthcare to the poor and neo-middle class.\n",
    "\n",
    "The Lancet, considered among the most prestigious health journals in the world has lauded Ayushman Bharat, stating that this scheme attends to the larger discontent about the health sector in India. The journal also noted PM Modi’s efforts to prioritise universal health coverage.\n",
    "\n",
    "Understanding that financial exclusion was a bane for the poor, the Prime Minister launched the Pradhan Mantri Jan Dhan Yojana, that aimed at opening bank accounts for every Indian. Now, over 35 crore Jan Dhan accounts have been opened. These accounts have not only banked the unbanked but also opened the doors for other avenues of empowerment.\n",
    "\n",
    "Going a step ahead of Jan Dhan, Shri Modi emphasised on Jan Suraksha, by giving insurance and pension cover to the most vulnerable sections of society. The JAM trinity (Jan Dhan- Aadhaar- Mobile) has led to elimination of middle men and ensured transparency and speed, powered by technology.\n",
    "\n",
    "In a first, over 42 crore people associated with the unorganised sector now have pension coverage under the Pradhan Mantri Shram Yogi Man Dhan Yojana. During the very first Cabinet Meeting after the 2019 election results, a similar pension scheme for traders was announced as well.\n",
    "\n",
    "The Pradhan Mantri Ujjwala Yojana, launched in 2016 provides free cooking gas connections to the poor. It has proven to be a major game-changer in providing smoke-free kitchens to over 7 crore beneficiaries, most of whom are women.\n",
    "\n",
    "18,000 villages that were without electricity even after 70 long years of Independence have been electrified.\n",
    "\n",
    "Shri Modi believes that no Indian should be homeless and to realise this vision, over 1.25 crore houses were built between 2014 and 2019. The pace of house construction remains as quick to fulfil the PM’s vision of ‘Housing for All’ by 2022.\n",
    "\n",
    "Agriculture is a sector that is very close to Shri Narendra Modi. During the interim budget of 2019, the Government announced a monetary incentive for farmers called the PM Kisan Samman Nidhi. In almost three weeks, on 24th February 2019, the scheme was launched and instalments have been paid regularly since then. During the first Cabinet Meeting of PM Modi’s second term, it was decided to extend the PM Kisan benefits to all farmers, removing the 5 acre limit that was present earlier. With this, the Government of India would be devoting almost Rs. 87,000 crore per year for farmer welfare.\n",
    "\n",
    "Shri Modi has also focused path-breaking initiatives for agriculture ranging from Soil Health Cards, E-NAM for better markets and a renewed focus on irrigation. On 30th May 2019, PM Modi fulfilled a major promise by creating a new Jal Shakti Ministry to cater to all aspects relating to water resources.\n",
    "\n",
    "On 2nd October 2014, Mahatma Gandhi’s Birth Anniversary, the PM launched ‘Swachh Bharat Mission’ a mass movement for cleanliness across the nation. The scale and impact of the movement is historic. Today, sanitation coverage has risen from 38% in 2014 to 99%. Several states and Union Territories have been declared open defecation free (ODF). Substantive measures been taken for a clean Ganga.\n",
    "\n",
    "The World Health Organisation has appreciated the Swachh Bharat Mission and has opined that it would save three lakh lives.\n",
    "\n",
    "Shri Modi believes that transportation is an important means towards transformation. That is why, the Government of India has been working to create next-generation infrastructure be it in terms of more highways, railways, i-ways and waterways. The UDAN (Ude Desh Ka Aam Nagrik) Scheme has made aviation sector more people-friendly and boosted connectivity.\n",
    "\n",
    "PM Modi launched the ‘Make in India’ initiative to turn India into an international manufacturing powerhouse. This effort has led to transformative results. For instance, the number of mobile manufacturing units has risen from 2 in 2014 to 122 in 2019. India has made significant strides in ‘Ease of Doing Business’, improving its ranking from 142 in 2014 to 77 in 2019. The Government of India rolled out the GST during a historic session of Parliament in 2017, which has realised the dream of ‘One Nation, One Tax.’\n",
    "\n",
    "During his tenure, special attention has been paid to India’s rich history and culture. India is home to the world’s largest statue, the State of Unity, a fitting tribute to Sardar Patel. This Statue was built through a special mass movement where tools of farmers and soil from all states and Union Territories of India were used, signifying the spirit of ‘Ek Bharat, Shreshtha Bharat.’\n",
    "\n",
    "PM Modi is deeply passionate about environmental causes. He has time and again called for closing of ranks to create a clean and green planet. As Chief Minister of Gujarat, Shri Modi created a separate Climate Change Department to create innovative solutions to climate change. This spirit was seen in the 2015 COP21 Summit in Paris where PM Modi played a key role in the high-level deliberations.\n",
    "\n",
    "Going a step ahead of climate change, PM Modi has talked about climate justice. In 2018, Heads of State and Government from several nations came to India for the launch of the International Solar Alliance, an innovative effort to harness solar energy for a better planet.\n",
    "\n",
    "Recognising his efforts towards environmental conservation, PM Modi was honoured with the United Nations ‘Champions of the Earth Award.’\n",
    "\n",
    "Fully sensitive to the fact that climate change has made our planet prone to natural disasters, Shri Modi has brought a new approach to disaster management, harnessing the power of technology and the strength of human resources. As Chief Minister, he transformed Gujarat that had just been ravaged by a devastating earthquake on 26th January 2001. Likewise, he introduced new systems to combat floods and droughts in Gujarat that were internationally lauded.\n",
    "\n",
    "Through administrative reforms, Shri Modi has always given priority to justice for citizens. In Gujarat, he spearheaded the start of evening courts to ensure people’s issues are resolved. At the Centre, he began PRAGATI ((Pro-Active Governance And Timely Implementation) to expedite pending projects that were delaying growth.\n",
    "\n",
    "Shri Modi’s foreign policy initiatives have realised the true potential and role of world’s largest democracy. He began his first term in office in presence of all Heads of States of SAARC Nations and invited BIMSTEC leaders at the start of the second. His address to the General Assembly of United Nations was appreciated across the world. Shri Modi became the first Indian Prime Minister to embark on a bilateral visit to Nepal after a long period of 17 years, to Australia after 28 years, to Fiji after 31 years and UAE as well as Seychelles after 34 years. Since taking over, Shri Modi attended UN, BRICS, SAARC and G-20 Summits, where India’s interventions and views on a variety of global economic and political issues were widely appreciated.\n",
    "\n",
    "PM Modi has been conferred various honours including the highest civilian honour of Saudi Arabia Sash of King Abdulaziz. Shri Modi has been also been conferred the top awards of Russia (The Order of the Holy Apostle Andrew the First), Palestine (Grand Collar of the State of Palestine), Afghanistan (Amir Amanullah Khan Award), UAE (Zayed Medal) and Maldives (Rule of Nishan Izzuddeen). In 2018, PM received the prestigious Seoul Peace Prize for his contribution to peace and development.\n",
    "\n",
    "Narendra Modi’s clarion call for marking a day as ‘International Day of Yoga’ received an overwhelming response at the UN. In a first, a total of 177 Nations across the world came together and passed the resolution to declare 21st June as the ‘International Day of Yoga at the UN.’\n",
    "\n",
    "Shri Modi was born on 17 September, 1950, in a small town in Gujarat. His family belonged to the ‘other backward class’ which is among the marginalised sections of society. He grew up in a poor but loving family ‘without a spare rupee’. The initial hardships of life not only taught the value of hard work but also exposed him to the avoidable sufferings of the common people. This inspired him from a very young age to immerse himself in service of people and the nation. In his initial years, he worked with the Rashtriya Swayamsevak Sangh (RSS), a nationalist organisation devoted to nation building and later devoted himself in politics working with the Bharatiya Janata Party organization at National and State level. Shri Modi completed his MA in political science from Gujarat University.\n",
    "\n",
    "Narendra Modi is a ‘People’s Leader’, dedicated to solving their problems and improving their well-being. Nothing is more satisfying to him than being amongst the people, sharing their joys and alleviating their sorrows. His powerful ‘personal connect’ with the people on ground is complemented by a strong online presence. He is known as India’s most techno-savvy leader, using the web to reach people and bring about change in their lives. He is very active on social media platforms including Facebook, Twitter, Instagram, Sound Cloud, Linkedin, Weibo and other forums.\n",
    "\n",
    "Beyond politics, Narendra Modi enjoys writing. He has authored several books, including poetry. He begins his day with Yoga, which strengthens his body and mind and instills the power of calmness in an otherwise fast-paced routine.\"\"\""
   ]
  },
  {
   "cell_type": "markdown",
   "id": "8a8c0dda",
   "metadata": {},
   "source": [
    "# We will use sent_tokenize which tokenize the paragraph into the sentences"
   ]
  },
  {
   "cell_type": "code",
   "execution_count": 43,
   "id": "a247285b",
   "metadata": {},
   "outputs": [],
   "source": [
    "sentences = nltk.sent_tokenize(paragraph)"
   ]
  },
  {
   "cell_type": "code",
   "execution_count": 44,
   "id": "381c6447",
   "metadata": {},
   "outputs": [
    {
     "data": {
      "text/plain": [
       "84"
      ]
     },
     "execution_count": 44,
     "metadata": {},
     "output_type": "execute_result"
    }
   ],
   "source": [
    "len(sentences)"
   ]
  },
  {
   "cell_type": "code",
   "execution_count": null,
   "id": "31b491a9",
   "metadata": {},
   "outputs": [],
   "source": []
  }
 ],
 "metadata": {
  "kernelspec": {
   "display_name": "Python 3",
   "language": "python",
   "name": "python3"
  },
  "language_info": {
   "codemirror_mode": {
    "name": "ipython",
    "version": 3
   },
   "file_extension": ".py",
   "mimetype": "text/x-python",
   "name": "python",
   "nbconvert_exporter": "python",
   "pygments_lexer": "ipython3",
   "version": "3.8.8"
  }
 },
 "nbformat": 4,
 "nbformat_minor": 5
}
